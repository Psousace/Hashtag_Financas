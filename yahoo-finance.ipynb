{
 "cells": [
  {
   "cell_type": "markdown",
   "id": "f235b2d7-9f16-4924-b160-347600a45559",
   "metadata": {
    "tags": []
   },
   "source": [
    "# yFinance"
   ]
  },
  {
   "cell_type": "markdown",
   "id": "d094b586-2bfa-45b6-b7bc-4d9d92fbdf8d",
   "metadata": {},
   "source": [
    "Obtenha dados históricos de mercado de forma confiável com Python utilizando a biblioteca yFinance."
   ]
  },
  {
   "cell_type": "markdown",
   "id": "9ce97c50-db65-4456-99af-ec9acf16caab",
   "metadata": {},
   "source": [
    "Site da biblioteca: https://pypi.org/project/yfinance/"
   ]
  },
  {
   "cell_type": "markdown",
   "id": "fe2d14e2-fa28-42e9-be70-e2a36dda65a2",
   "metadata": {},
   "source": [
    "## Instalação da biblioteca"
   ]
  },
  {
   "cell_type": "code",
   "execution_count": 4,
   "id": "9d725f2f-5226-4907-bef9-cd734df91ff7",
   "metadata": {},
   "outputs": [
    {
     "name": "stdout",
     "output_type": "stream",
     "text": [
      "Requirement already satisfied: yfinance in c:\\users\\usuario\\anaconda3\\lib\\site-packages (0.2.28)\n",
      "Requirement already satisfied: pandas>=1.3.0 in c:\\users\\usuario\\anaconda3\\lib\\site-packages (from yfinance) (1.5.3)\n",
      "Requirement already satisfied: numpy>=1.16.5 in c:\\users\\usuario\\anaconda3\\lib\\site-packages (from yfinance) (1.24.3)\n",
      "Requirement already satisfied: requests>=2.31 in c:\\users\\usuario\\anaconda3\\lib\\site-packages (from yfinance) (2.31.0)\n",
      "Requirement already satisfied: multitasking>=0.0.7 in c:\\users\\usuario\\anaconda3\\lib\\site-packages (from yfinance) (0.0.11)\n",
      "Requirement already satisfied: lxml>=4.9.1 in c:\\users\\usuario\\anaconda3\\lib\\site-packages (from yfinance) (4.9.2)\n",
      "Requirement already satisfied: appdirs>=1.4.4 in c:\\users\\usuario\\anaconda3\\lib\\site-packages (from yfinance) (1.4.4)\n",
      "Requirement already satisfied: pytz>=2022.5 in c:\\users\\usuario\\anaconda3\\lib\\site-packages (from yfinance) (2022.7)\n",
      "Requirement already satisfied: frozendict>=2.3.4 in c:\\users\\usuario\\anaconda3\\lib\\site-packages (from yfinance) (2.3.8)\n",
      "Requirement already satisfied: beautifulsoup4>=4.11.1 in c:\\users\\usuario\\anaconda3\\lib\\site-packages (from yfinance) (4.12.2)\n",
      "Requirement already satisfied: html5lib>=1.1 in c:\\users\\usuario\\anaconda3\\lib\\site-packages (from yfinance) (1.1)\n",
      "Requirement already satisfied: soupsieve>1.2 in c:\\users\\usuario\\anaconda3\\lib\\site-packages (from beautifulsoup4>=4.11.1->yfinance) (2.4)\n",
      "Requirement already satisfied: six>=1.9 in c:\\users\\usuario\\appdata\\roaming\\python\\python311\\site-packages (from html5lib>=1.1->yfinance) (1.16.0)\n",
      "Requirement already satisfied: webencodings in c:\\users\\usuario\\anaconda3\\lib\\site-packages (from html5lib>=1.1->yfinance) (0.5.1)\n",
      "Requirement already satisfied: python-dateutil>=2.8.1 in c:\\users\\usuario\\appdata\\roaming\\python\\python311\\site-packages (from pandas>=1.3.0->yfinance) (2.8.2)\n",
      "Requirement already satisfied: charset-normalizer<4,>=2 in c:\\users\\usuario\\anaconda3\\lib\\site-packages (from requests>=2.31->yfinance) (2.0.4)\n",
      "Requirement already satisfied: idna<4,>=2.5 in c:\\users\\usuario\\anaconda3\\lib\\site-packages (from requests>=2.31->yfinance) (3.4)\n",
      "Requirement already satisfied: urllib3<3,>=1.21.1 in c:\\users\\usuario\\anaconda3\\lib\\site-packages (from requests>=2.31->yfinance) (1.26.16)\n",
      "Requirement already satisfied: certifi>=2017.4.17 in c:\\users\\usuario\\anaconda3\\lib\\site-packages (from requests>=2.31->yfinance) (2023.7.22)\n"
     ]
    }
   ],
   "source": [
    "!pip install yfinance --upgrade --no-cache-dir"
   ]
  },
  {
   "cell_type": "markdown",
   "id": "0ca76bf5-c658-4ae3-9db5-c6eb3028f8f8",
   "metadata": {},
   "source": [
    "## Módulo Ticker"
   ]
  },
  {
   "cell_type": "code",
   "execution_count": 5,
   "id": "f4e0fb65-440d-445a-87b9-ee0f48573b1d",
   "metadata": {},
   "outputs": [
    {
     "data": {
      "text/plain": [
       "yfinance.ticker.Ticker"
      ]
     },
     "execution_count": 5,
     "metadata": {},
     "output_type": "execute_result"
    }
   ],
   "source": [
    "# Importando a biblioteca yfinance\n",
    "import yfinance as yf\n",
    "\n",
    "# Ticker da Lockheed Martin na NYSE - LMT\n",
    "lmt = yf.Ticker(\"LMT\")\n",
    "type(lmt)"
   ]
  },
  {
   "cell_type": "code",
   "execution_count": 6,
   "id": "a9157848-c67e-4bec-8a19-276ece02efff",
   "metadata": {},
   "outputs": [
    {
     "data": {
      "text/plain": [
       "{'address1': '6801 Rockledge Drive',\n",
       " 'city': 'Bethesda',\n",
       " 'state': 'MD',\n",
       " 'zip': '20817',\n",
       " 'country': 'United States',\n",
       " 'phone': '301 897 6000',\n",
       " 'website': 'https://www.lockheedmartin.com',\n",
       " 'industry': 'Aerospace & Defense',\n",
       " 'industryDisp': 'Aerospace & Defense',\n",
       " 'sector': 'Industrials',\n",
       " 'sectorDisp': 'Industrials',\n",
       " 'longBusinessSummary': 'Lockheed Martin Corporation, a security and aerospace company, engages in the research, design, development, manufacture, integration, and sustainment of technology systems, products, and services worldwide. It operates through four segments: Aeronautics, Missiles and Fire Control, Rotary and Mission Systems, and Space. The Aeronautics segment offers combat and air mobility aircraft, unmanned air vehicles, and related technologies. The Missiles and Fire Control segment provides air and missile defense systems; tactical missiles and air-to-ground precision strike weapon systems; logistics; fire control systems; mission operations support, readiness, engineering support, and integration services; manned and unmanned ground vehicles; and energy management solutions. The Rotary and Mission Systems segment offers military and commercial helicopters, surface ships, sea and land-based missile defense systems, radar systems, sea and air-based mission and combat systems, command and control mission solutions, cyber solutions, and simulation and training solutions. The Space segment offers satellites; space transportation systems; strategic, advanced strike, and defensive systems; and classified systems and services in support of national security systems. This segment also provides network-enabled situational awareness and integrates space and ground global systems to help its customers gather, analyze, and securely distribute critical intelligence data. It serves primarily serves the U.S. government, as well as foreign military sales contracted through the U.S. government. Lockheed Martin Corporation was founded in 1912 and is headquartered in Bethesda, Maryland.',\n",
       " 'fullTimeEmployees': 116000,\n",
       " 'companyOfficers': [{'maxAge': 1,\n",
       "   'name': 'Mr. James D. Taiclet Jr.',\n",
       "   'age': 61,\n",
       "   'title': 'Chairman, Pres & CEO',\n",
       "   'yearBorn': 1961,\n",
       "   'fiscalYear': 2022,\n",
       "   'totalPay': 11396651,\n",
       "   'exercisedValue': 0,\n",
       "   'unexercisedValue': 0},\n",
       "  {'maxAge': 1,\n",
       "   'name': 'Mr. Jesus  Malave Jr.',\n",
       "   'age': 53,\n",
       "   'title': 'Chief Financial Officer',\n",
       "   'yearBorn': 1969,\n",
       "   'fiscalYear': 2022,\n",
       "   'totalPay': 3410479,\n",
       "   'exercisedValue': 0,\n",
       "   'unexercisedValue': 0},\n",
       "  {'maxAge': 1,\n",
       "   'name': 'Mr. Frank A. St. John',\n",
       "   'age': 55,\n",
       "   'title': 'Chief Operating Officer',\n",
       "   'yearBorn': 1967,\n",
       "   'fiscalYear': 2022,\n",
       "   'totalPay': 4706588,\n",
       "   'exercisedValue': 0,\n",
       "   'unexercisedValue': 0},\n",
       "  {'maxAge': 1,\n",
       "   'name': 'Ms. Maryanne R. Lavan',\n",
       "   'age': 63,\n",
       "   'title': 'Sr. VP, Gen. Counsel & Corp. Sec.',\n",
       "   'yearBorn': 1959,\n",
       "   'fiscalYear': 2022,\n",
       "   'totalPay': 3213729,\n",
       "   'exercisedValue': 0,\n",
       "   'unexercisedValue': 0},\n",
       "  {'maxAge': 1,\n",
       "   'name': 'Mr. Gregory M. Ulmer',\n",
       "   'age': 57,\n",
       "   'title': 'Exec. VP of Aeronautics',\n",
       "   'yearBorn': 1965,\n",
       "   'fiscalYear': 2022,\n",
       "   'totalPay': 2978184,\n",
       "   'exercisedValue': 0,\n",
       "   'unexercisedValue': 0},\n",
       "  {'maxAge': 1,\n",
       "   'name': 'Mr. H. Edward Paul III',\n",
       "   'age': 46,\n",
       "   'title': 'Chief Accounting Officer, VP & Controller',\n",
       "   'yearBorn': 1976,\n",
       "   'exercisedValue': 0,\n",
       "   'unexercisedValue': 0},\n",
       "  {'maxAge': 1,\n",
       "   'name': 'Mr. Rodney A. Makoske',\n",
       "   'title': 'Chief Engineer and Sr. VP of Engineering & Technology',\n",
       "   'exercisedValue': 0,\n",
       "   'unexercisedValue': 0},\n",
       "  {'maxAge': 1,\n",
       "   'name': 'Ms. Yvonne O. Hodge',\n",
       "   'title': 'Sr. VP of Enterprise Bus. & Digital Transformation and CIO',\n",
       "   'exercisedValue': 0,\n",
       "   'unexercisedValue': 0},\n",
       "  {'maxAge': 1,\n",
       "   'name': 'Ms. Maria Ricciardone Lee',\n",
       "   'age': 46,\n",
       "   'title': 'VP of Investor Relations',\n",
       "   'yearBorn': 1976,\n",
       "   'exercisedValue': 0,\n",
       "   'unexercisedValue': 0},\n",
       "  {'maxAge': 1,\n",
       "   'name': 'Mr. Dean  Acosta',\n",
       "   'title': 'Sr. VP & Chief Communications Officer',\n",
       "   'exercisedValue': 0,\n",
       "   'unexercisedValue': 0}],\n",
       " 'auditRisk': 5,\n",
       " 'boardRisk': 6,\n",
       " 'compensationRisk': 2,\n",
       " 'shareHolderRightsRisk': 7,\n",
       " 'overallRisk': 5,\n",
       " 'governanceEpochDate': 1690848000,\n",
       " 'compensationAsOfEpochDate': 1672444800,\n",
       " 'maxAge': 86400,\n",
       " 'priceHint': 2,\n",
       " 'previousClose': 450.08,\n",
       " 'open': 448.0,\n",
       " 'dayLow': 444.74,\n",
       " 'dayHigh': 449.84,\n",
       " 'regularMarketPreviousClose': 450.08,\n",
       " 'regularMarketOpen': 448.0,\n",
       " 'regularMarketDayLow': 444.74,\n",
       " 'regularMarketDayHigh': 449.84,\n",
       " 'dividendRate': 12.0,\n",
       " 'dividendYield': 0.026700001,\n",
       " 'exDividendDate': 1693440000,\n",
       " 'payoutRatio': 0.4326,\n",
       " 'fiveYearAvgDividendYield': 2.6,\n",
       " 'beta': 0.647384,\n",
       " 'trailingPE': 16.317682,\n",
       " 'forwardPE': 15.829893,\n",
       " 'volume': 419480,\n",
       " 'regularMarketVolume': 419480,\n",
       " 'averageVolume': 1036193,\n",
       " 'averageVolume10days': 892170,\n",
       " 'averageDailyVolume10Day': 892170,\n",
       " 'bid': 445.18,\n",
       " 'ask': 445.43,\n",
       " 'bidSize': 800,\n",
       " 'askSize': 800,\n",
       " 'marketCap': 112019472384,\n",
       " 'fiftyTwoWeekLow': 381.55,\n",
       " 'fiftyTwoWeekHigh': 508.1,\n",
       " 'priceToSalesTrailing12Months': 1.6621826,\n",
       " 'fiftyDayAverage': 456.3484,\n",
       " 'twoHundredDayAverage': 468.38074,\n",
       " 'trailingAnnualDividendRate': 11.8,\n",
       " 'trailingAnnualDividendYield': 0.026217563,\n",
       " 'currency': 'USD',\n",
       " 'enterpriseValue': 127216304128,\n",
       " 'profitMargins': 0.10476,\n",
       " 'floatShares': 213522860,\n",
       " 'sharesOutstanding': 251831008,\n",
       " 'sharesShort': 1525108,\n",
       " 'sharesShortPriorMonth': 1738325,\n",
       " 'sharesShortPreviousMonthDate': 1688083200,\n",
       " 'dateShortInterest': 1690761600,\n",
       " 'sharesPercentSharesOut': 0.0061000003,\n",
       " 'heldPercentInsiders': 0.0007,\n",
       " 'heldPercentInstitutions': 0.76101,\n",
       " 'shortRatio': 1.28,\n",
       " 'shortPercentOfFloat': 0.0070999996,\n",
       " 'impliedSharesOutstanding': 0,\n",
       " 'bookValue': 36.813,\n",
       " 'priceToBook': 12.083232,\n",
       " 'lastFiscalYearEnd': 1672444800,\n",
       " 'nextFiscalYearEnd': 1703980800,\n",
       " 'mostRecentQuarter': 1687651200,\n",
       " 'earningsQuarterlyGrowth': 4.44,\n",
       " 'netIncomeToCommon': 7059999744,\n",
       " 'trailingEps': 27.26,\n",
       " 'forwardEps': 28.1,\n",
       " 'pegRatio': 1.52,\n",
       " 'lastSplitFactor': '2:1',\n",
       " 'lastSplitDate': 915408000,\n",
       " 'enterpriseToRevenue': 1.888,\n",
       " 'enterpriseToEbitda': 12.35,\n",
       " '52WeekChange': 0.022537231,\n",
       " 'SandP52WeekChange': 0.042859793,\n",
       " 'lastDividendValue': 3.0,\n",
       " 'lastDividendDate': 1685491200,\n",
       " 'exchange': 'NYQ',\n",
       " 'quoteType': 'EQUITY',\n",
       " 'symbol': 'LMT',\n",
       " 'underlyingSymbol': 'LMT',\n",
       " 'shortName': 'Lockheed Martin Corporation',\n",
       " 'longName': 'Lockheed Martin Corporation',\n",
       " 'firstTradeDateEpochUtc': 221149800,\n",
       " 'timeZoneFullName': 'America/New_York',\n",
       " 'timeZoneShortName': 'EDT',\n",
       " 'uuid': 'c88f1145-2517-3402-b701-ff8fcf649d0c',\n",
       " 'messageBoardId': 'finmb_285827',\n",
       " 'gmtOffSetMilliseconds': -14400000,\n",
       " 'currentPrice': 444.82,\n",
       " 'targetHighPrice': 570.0,\n",
       " 'targetLowPrice': 374.0,\n",
       " 'targetMeanPrice': 502.85,\n",
       " 'targetMedianPrice': 505.0,\n",
       " 'recommendationMean': 2.7,\n",
       " 'recommendationKey': 'hold',\n",
       " 'numberOfAnalystOpinions': 20,\n",
       " 'totalCash': 3672999936,\n",
       " 'totalCashPerShare': 14.585,\n",
       " 'ebitda': 10300999680,\n",
       " 'totalDebt': 17545000960,\n",
       " 'quickRatio': 1.136,\n",
       " 'currentRatio': 1.361,\n",
       " 'totalRevenue': 67392999424,\n",
       " 'debtToEquity': 189.881,\n",
       " 'revenuePerShare': 262.179,\n",
       " 'returnOnAssets': 0.105340004,\n",
       " 'returnOnEquity': 0.68305,\n",
       " 'grossProfits': 8387000000,\n",
       " 'freeCashflow': 4890375168,\n",
       " 'operatingCashflow': 7725000192,\n",
       " 'earningsGrowth': 4.716,\n",
       " 'revenueGrowth': 0.081,\n",
       " 'grossMargins': 0.12847,\n",
       " 'ebitdaMargins': 0.15285,\n",
       " 'operatingMargins': 0.13596,\n",
       " 'financialCurrency': 'USD',\n",
       " 'trailingPegRatio': 2.4832}"
      ]
     },
     "execution_count": 6,
     "metadata": {},
     "output_type": "execute_result"
    }
   ],
   "source": [
    "# Informações do Ticker\n",
    "lmt.info"
   ]
  },
  {
   "cell_type": "code",
   "execution_count": 7,
   "id": "d3074670-9493-44b1-b163-01d217142978",
   "metadata": {},
   "outputs": [
    {
     "data": {
      "text/html": [
       "<div>\n",
       "<style scoped>\n",
       "    .dataframe tbody tr th:only-of-type {\n",
       "        vertical-align: middle;\n",
       "    }\n",
       "\n",
       "    .dataframe tbody tr th {\n",
       "        vertical-align: top;\n",
       "    }\n",
       "\n",
       "    .dataframe thead th {\n",
       "        text-align: right;\n",
       "    }\n",
       "</style>\n",
       "<table border=\"1\" class=\"dataframe\">\n",
       "  <thead>\n",
       "    <tr style=\"text-align: right;\">\n",
       "      <th></th>\n",
       "      <th>Open</th>\n",
       "      <th>High</th>\n",
       "      <th>Low</th>\n",
       "      <th>Close</th>\n",
       "      <th>Volume</th>\n",
       "      <th>Dividends</th>\n",
       "      <th>Stock Splits</th>\n",
       "    </tr>\n",
       "    <tr>\n",
       "      <th>Date</th>\n",
       "      <th></th>\n",
       "      <th></th>\n",
       "      <th></th>\n",
       "      <th></th>\n",
       "      <th></th>\n",
       "      <th></th>\n",
       "      <th></th>\n",
       "    </tr>\n",
       "  </thead>\n",
       "  <tbody>\n",
       "    <tr>\n",
       "      <th>1977-01-03 00:00:00-05:00</th>\n",
       "      <td>0.328608</td>\n",
       "      <td>0.333049</td>\n",
       "      <td>0.328608</td>\n",
       "      <td>0.333049</td>\n",
       "      <td>165282</td>\n",
       "      <td>0.0</td>\n",
       "      <td>0.0</td>\n",
       "    </tr>\n",
       "    <tr>\n",
       "      <th>1977-01-04 00:00:00-05:00</th>\n",
       "      <td>0.333049</td>\n",
       "      <td>0.337490</td>\n",
       "      <td>0.315286</td>\n",
       "      <td>0.333049</td>\n",
       "      <td>179952</td>\n",
       "      <td>0.0</td>\n",
       "      <td>0.0</td>\n",
       "    </tr>\n",
       "    <tr>\n",
       "      <th>1977-01-05 00:00:00-05:00</th>\n",
       "      <td>0.333049</td>\n",
       "      <td>0.341930</td>\n",
       "      <td>0.333049</td>\n",
       "      <td>0.341930</td>\n",
       "      <td>189732</td>\n",
       "      <td>0.0</td>\n",
       "      <td>0.0</td>\n",
       "    </tr>\n",
       "    <tr>\n",
       "      <th>1977-01-06 00:00:00-05:00</th>\n",
       "      <td>0.341930</td>\n",
       "      <td>0.359693</td>\n",
       "      <td>0.341930</td>\n",
       "      <td>0.359693</td>\n",
       "      <td>384354</td>\n",
       "      <td>0.0</td>\n",
       "      <td>0.0</td>\n",
       "    </tr>\n",
       "    <tr>\n",
       "      <th>1977-01-07 00:00:00-05:00</th>\n",
       "      <td>0.359693</td>\n",
       "      <td>0.364134</td>\n",
       "      <td>0.355252</td>\n",
       "      <td>0.364134</td>\n",
       "      <td>345234</td>\n",
       "      <td>0.0</td>\n",
       "      <td>0.0</td>\n",
       "    </tr>\n",
       "    <tr>\n",
       "      <th>...</th>\n",
       "      <td>...</td>\n",
       "      <td>...</td>\n",
       "      <td>...</td>\n",
       "      <td>...</td>\n",
       "      <td>...</td>\n",
       "      <td>...</td>\n",
       "      <td>...</td>\n",
       "    </tr>\n",
       "    <tr>\n",
       "      <th>2023-08-09 00:00:00-04:00</th>\n",
       "      <td>450.079987</td>\n",
       "      <td>454.049988</td>\n",
       "      <td>449.989990</td>\n",
       "      <td>452.809998</td>\n",
       "      <td>1211700</td>\n",
       "      <td>0.0</td>\n",
       "      <td>0.0</td>\n",
       "    </tr>\n",
       "    <tr>\n",
       "      <th>2023-08-10 00:00:00-04:00</th>\n",
       "      <td>452.000000</td>\n",
       "      <td>453.970001</td>\n",
       "      <td>449.260010</td>\n",
       "      <td>450.049988</td>\n",
       "      <td>688700</td>\n",
       "      <td>0.0</td>\n",
       "      <td>0.0</td>\n",
       "    </tr>\n",
       "    <tr>\n",
       "      <th>2023-08-11 00:00:00-04:00</th>\n",
       "      <td>451.179993</td>\n",
       "      <td>454.089996</td>\n",
       "      <td>450.519989</td>\n",
       "      <td>454.049988</td>\n",
       "      <td>690500</td>\n",
       "      <td>0.0</td>\n",
       "      <td>0.0</td>\n",
       "    </tr>\n",
       "    <tr>\n",
       "      <th>2023-08-14 00:00:00-04:00</th>\n",
       "      <td>454.589996</td>\n",
       "      <td>455.609985</td>\n",
       "      <td>449.660004</td>\n",
       "      <td>450.079987</td>\n",
       "      <td>751300</td>\n",
       "      <td>0.0</td>\n",
       "      <td>0.0</td>\n",
       "    </tr>\n",
       "    <tr>\n",
       "      <th>2023-08-15 00:00:00-04:00</th>\n",
       "      <td>448.000000</td>\n",
       "      <td>449.839996</td>\n",
       "      <td>444.739990</td>\n",
       "      <td>444.820007</td>\n",
       "      <td>419482</td>\n",
       "      <td>0.0</td>\n",
       "      <td>0.0</td>\n",
       "    </tr>\n",
       "  </tbody>\n",
       "</table>\n",
       "<p>11755 rows × 7 columns</p>\n",
       "</div>"
      ],
      "text/plain": [
       "                                 Open        High         Low       Close  \\\n",
       "Date                                                                        \n",
       "1977-01-03 00:00:00-05:00    0.328608    0.333049    0.328608    0.333049   \n",
       "1977-01-04 00:00:00-05:00    0.333049    0.337490    0.315286    0.333049   \n",
       "1977-01-05 00:00:00-05:00    0.333049    0.341930    0.333049    0.341930   \n",
       "1977-01-06 00:00:00-05:00    0.341930    0.359693    0.341930    0.359693   \n",
       "1977-01-07 00:00:00-05:00    0.359693    0.364134    0.355252    0.364134   \n",
       "...                               ...         ...         ...         ...   \n",
       "2023-08-09 00:00:00-04:00  450.079987  454.049988  449.989990  452.809998   \n",
       "2023-08-10 00:00:00-04:00  452.000000  453.970001  449.260010  450.049988   \n",
       "2023-08-11 00:00:00-04:00  451.179993  454.089996  450.519989  454.049988   \n",
       "2023-08-14 00:00:00-04:00  454.589996  455.609985  449.660004  450.079987   \n",
       "2023-08-15 00:00:00-04:00  448.000000  449.839996  444.739990  444.820007   \n",
       "\n",
       "                            Volume  Dividends  Stock Splits  \n",
       "Date                                                         \n",
       "1977-01-03 00:00:00-05:00   165282        0.0           0.0  \n",
       "1977-01-04 00:00:00-05:00   179952        0.0           0.0  \n",
       "1977-01-05 00:00:00-05:00   189732        0.0           0.0  \n",
       "1977-01-06 00:00:00-05:00   384354        0.0           0.0  \n",
       "1977-01-07 00:00:00-05:00   345234        0.0           0.0  \n",
       "...                            ...        ...           ...  \n",
       "2023-08-09 00:00:00-04:00  1211700        0.0           0.0  \n",
       "2023-08-10 00:00:00-04:00   688700        0.0           0.0  \n",
       "2023-08-11 00:00:00-04:00   690500        0.0           0.0  \n",
       "2023-08-14 00:00:00-04:00   751300        0.0           0.0  \n",
       "2023-08-15 00:00:00-04:00   419482        0.0           0.0  \n",
       "\n",
       "[11755 rows x 7 columns]"
      ]
     },
     "execution_count": 7,
     "metadata": {},
     "output_type": "execute_result"
    }
   ],
   "source": [
    "# Obtendo o histórico completo da ação\n",
    "hist = lmt.history(period=\"max\")\n",
    "hist"
   ]
  },
  {
   "cell_type": "code",
   "execution_count": 5,
   "id": "285911f1-88b9-4a9e-8f06-c7469014f27d",
   "metadata": {},
   "outputs": [
    {
     "data": {
      "image/png": "[encoded data removed]",
      "text/plain": [
       "<Figure size 432x288 with 1 Axes>"
      ]
     },
     "metadata": {
      "needs_background": "light"
     },
     "output_type": "display_data"
    }
   ],
   "source": [
    "# Gráfico da cotação de fechamento\n",
    "from matplotlib import pyplot as plt\n",
    "%matplotlib inline\n",
    "plt.plot(hist['Close'], label=lmt.info['symbol'])\n",
    "plt.xlabel('Data')\n",
    "plt.ylabel('Cotação de Fechamento ({0})'.format(lmt.info['currency']))\n",
    "plt.legend()\n",
    "plt.show()"
   ]
  },
  {
   "cell_type": "code",
   "execution_count": 6,
   "id": "698e37a8-4f6a-4c27-b42d-da86d1bcec93",
   "metadata": {},
   "outputs": [
    {
     "data": {
      "text/plain": [
       "Date\n",
       "1977-12-31     0.000000\n",
       "1978-12-31     0.000000\n",
       "1979-12-31     0.000000\n",
       "1980-12-31     0.000000\n",
       "1981-12-31     0.000000\n",
       "1982-12-31     0.000000\n",
       "1983-12-31     0.000000\n",
       "1984-12-31     0.138036\n",
       "1985-12-31     0.230062\n",
       "1986-12-31     0.291411\n",
       "1987-12-31     0.398773\n",
       "1988-12-31     0.475459\n",
       "1989-12-31     0.536810\n",
       "1990-12-31     0.552148\n",
       "1991-12-31     0.598159\n",
       "1992-12-31     0.641105\n",
       "1993-12-31     0.650308\n",
       "1994-12-31     0.687118\n",
       "1995-12-31     0.699847\n",
       "1996-12-31     0.800000\n",
       "1997-12-31     0.800000\n",
       "1998-12-31     0.820000\n",
       "1999-12-31     0.880000\n",
       "2000-12-31     0.440000\n",
       "2001-12-31     0.440000\n",
       "2002-12-31     0.440000\n",
       "2003-12-31     0.570000\n",
       "2004-12-31     0.910000\n",
       "2005-12-31     1.050000\n",
       "2006-12-31     1.250000\n",
       "2007-12-31     1.470000\n",
       "2008-12-31     1.830000\n",
       "2009-12-31     2.340000\n",
       "2010-12-31     2.640000\n",
       "2011-12-31     3.250000\n",
       "2012-12-31     4.150000\n",
       "2013-12-31     4.780000\n",
       "2014-12-31     5.490000\n",
       "2015-12-31     6.150000\n",
       "2016-12-31     6.770000\n",
       "2017-12-31     7.460000\n",
       "2018-12-31     8.200000\n",
       "2019-12-31     9.000000\n",
       "2020-12-31     9.800000\n",
       "2021-12-31    10.600000\n",
       "2022-12-31     2.800000\n",
       "Freq: A-DEC, Name: Dividends, dtype: float64"
      ]
     },
     "execution_count": 6,
     "metadata": {},
     "output_type": "execute_result"
    }
   ],
   "source": [
    "# Agrupando (somando) os dividendos por ano\n",
    "dividendos = hist['Dividends'].resample('Y').sum()\n",
    "dividendos"
   ]
  },
  {
   "cell_type": "code",
   "execution_count": 7,
   "id": "adbfee9d-91f7-4cbc-bd3b-bc1e4ad17dd2",
   "metadata": {},
   "outputs": [
    {
     "data": {
      "image/png": "[encoded data removed]",
      "text/plain": [
       "<Figure size 432x288 with 1 Axes>"
      ]
     },
     "metadata": {
      "needs_background": "light"
     },
     "output_type": "display_data"
    }
   ],
   "source": [
    "# Gráfico dos dividendos anuais\n",
    "plt.plot(dividendos.index.year[:-2], dividendos[:-2], label=lmt.info['symbol'])\n",
    "plt.xlabel('Data')\n",
    "plt.ylabel('Dividendos Anuais ({0})'.format(lmt.info['currency']))\n",
    "plt.legend()\n",
    "plt.show()"
   ]
  },
  {
   "cell_type": "markdown",
   "id": "037b60f1-d7f2-4f98-8e27-dc430330f761",
   "metadata": {},
   "source": [
    "## Exportando os dados"
   ]
  },
  {
   "cell_type": "code",
   "execution_count": null,
   "id": "dfa9e808-2fb8-4f86-9885-20d44ee5dce5",
   "metadata": {},
   "outputs": [],
   "source": [
    "# Exportando para o arquivo lmt-hist.csv\n",
    "hist.to_csv('lmt-hist.csv', index=True)"
   ]
  },
  {
   "cell_type": "markdown",
   "id": "9ca6e41f-2feb-45c3-a15f-47ed654e8c38",
   "metadata": {},
   "source": [
    "---"
   ]
  },
  {
   "cell_type": "markdown",
   "id": "9f085a27-601e-4b59-bf66-3f63a6f6a075",
   "metadata": {
    "tags": []
   },
   "source": [
    "# Autor\n",
    "\n",
    "<a href=\"https://www.youtube.com/channel/UCa-d0hwYHOu6ehwc_oMjOoA\" target=\"_blank\">Alcides Lino (canal Programação e Liberdade)</a>"
   ]
  },
  {
   "cell_type": "markdown",
   "id": "5a2eb5d4-b79e-45e3-9d94-72281d51239b",
   "metadata": {},
   "source": [
    "---"
   ]
  },
  {
   "cell_type": "markdown",
   "id": "484e0ca5-141e-40fe-a92a-550cec5f046c",
   "metadata": {
    "tags": []
   },
   "source": [
    "# Registro de Alterações (*Change Log*)"
   ]
  },
  {
   "cell_type": "markdown",
   "id": "20bb4007-2e78-45a2-9ddd-5aaca0749dfe",
   "metadata": {
    "tags": []
   },
   "source": [
    "| Data (DD/MM/YYYY) | Versão  | Alterado Por | Descrição da Mudança                |\n",
    "| ----------------- | ------- | ------------ | ----------------------------------- |\n",
    "| 07/03/2022        | 1.0     | Alcides      | Versão inicial                      |"
   ]
  }
 ],
 "metadata": {
  "kernelspec": {
   "display_name": "Python 3 (ipykernel)",
   "language": "python",
   "name": "python3"
  },
  "language_info": {
   "codemirror_mode": {
    "name": "ipython",
    "version": 3
   },
   "file_extension": ".py",
   "mimetype": "text/x-python",
   "name": "python",
   "nbconvert_exporter": "python",
   "pygments_lexer": "ipython3",
   "version": "3.11.4"
  },
  "toc-autonumbering": true,
  "toc-showmarkdowntxt": false
 },
 "nbformat": 4,
 "nbformat_minor": 5
}
